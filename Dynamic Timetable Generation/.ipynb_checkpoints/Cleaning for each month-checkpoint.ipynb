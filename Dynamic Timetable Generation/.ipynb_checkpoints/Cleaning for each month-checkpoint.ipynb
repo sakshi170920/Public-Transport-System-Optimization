{
 "cells": [
  {
   "cell_type": "code",
   "execution_count": 1,
   "metadata": {
    "collapsed": true
   },
   "outputs": [],
   "source": [
    "import pandas as pd\n",
    "import csv\n",
    "import re\n",
    "import glob\n",
    "import os"
   ]
  },
  {
   "cell_type": "code",
   "execution_count": 2,
   "metadata": {
    "collapsed": true
   },
   "outputs": [],
   "source": [
    "months = {'01':'Jan','02':'Feb','03':'Mar','04':'Apr','05':'May','06':'June','07':'July','08':'Aug','09':'Sept','10':'Oct','11':'Nov','12':'Dec'}"
   ]
  },
  {
   "cell_type": "code",
   "execution_count": 3,
   "metadata": {
    "collapsed": true
   },
   "outputs": [],
   "source": [
    "path = r'D:\\Dharmit\\Final Year Project\\data october\\1-10'\n",
    "allfiles = glob.glob(path + \"/*.csv\")"
   ]
  },
  {
   "cell_type": "code",
   "execution_count": 6,
   "metadata": {
    "collapsed": true,
    "scrolled": true
   },
   "outputs": [],
   "source": [
    "for i in range(1,32):      # Range equals number of days in month\n",
    "    temp_path='D:/Dharmit/Final Year Project/data october/' + str(i) + '-10'\n",
    "    path = temp_path\n",
    "    allfiles = glob.glob(path + \"/*.csv\")\n",
    "    for files in allfiles:\n",
    "        udf = pd.DataFrame(columns=['Time Slot','Trips','Passengers'])\n",
    "        ddf = pd.DataFrame(columns=['Time Slot','Trips','Passengers'])\n",
    "        with open(files,'rb') as f:\n",
    "            reader = csv.reader(f, delimiter=\",\")\n",
    "            timeslot = []\n",
    "            up_trips = []\n",
    "            down_trips = []\n",
    "            up_passengers = []\n",
    "            down_passengers = []\n",
    "            rows = [r for r in reader]\n",
    "\n",
    "            route = ''.join(re.findall(r'\\d+',rows[0][0]))\n",
    "            month = months[''.join(re.findall(r'\\d+',rows[0][1][:9]))]\n",
    "            date = ''.join(re.findall(r'\\d+',rows[0][1][10:12]))\n",
    "            year = ''.join(re.findall(r'\\d+',rows[0][1][13:]))\n",
    "            day = rows[0][9][6:]\n",
    "\n",
    "            for x in rows[4:-1]:\n",
    "                timeslot.append(x[0])\n",
    "                up_trips.append(x[1])\n",
    "                up_passengers.append(x[3])\n",
    "                down_trips.append(x[9])\n",
    "                down_passengers.append(x[11])\n",
    "\n",
    "        for j in xrange(len(timeslot)):\n",
    "            udf = udf.append(pd.Series([timeslot[j],up_trips[j],up_passengers[j]], index = ['Time Slot','Trips','Passengers']), ignore_index=True)\n",
    "            ddf = ddf.append(pd.Series([timeslot[j],down_trips[j],down_passengers[j]], index = ['Time Slot','Trips','Passengers']), ignore_index=True)\n",
    "\n",
    "        filename = route + '_Up_' + date +'_'+month+ '_'+day+ '_'+year+'.csv'\n",
    "        udf.to_csv('D:/Dharmit/Final Year Project/oct nov dec' + filename +'.csv') #Up direction Save Location - change accordingly\n",
    "        filename = route + '_Down_' + date +'_'+month+ '_'+day+ '_'+year+'.csv'\n",
    "        ddf.to_csv('D:/Dharmit/Final Year Project/oct nov dec'  + filename +'.csv') #Down direction Save Location - change accordingly"
   ]
  }
 ],
 "metadata": {
  "kernelspec": {
   "display_name": "Python 3 (ipykernel)",
   "language": "python",
   "name": "python3"
  },
  "language_info": {
   "codemirror_mode": {
    "name": "ipython",
    "version": 3
   },
   "file_extension": ".py",
   "mimetype": "text/x-python",
   "name": "python",
   "nbconvert_exporter": "python",
   "pygments_lexer": "ipython3",
   "version": "3.10.2"
  }
 },
 "nbformat": 4,
 "nbformat_minor": 2
}
